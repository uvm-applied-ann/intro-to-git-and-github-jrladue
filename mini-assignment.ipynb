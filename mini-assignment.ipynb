{
 "cells": [
  {
   "cell_type": "markdown",
   "id": "e1a1c81a",
   "metadata": {},
   "source": [
    "### Mini-assignment\n",
    "\n",
    "Change the code to print out one thing you are looking forward to learning in this course."
   ]
  },
  {
   "cell_type": "code",
   "execution_count": 2,
   "id": "1d20d196",
   "metadata": {},
   "outputs": [
    {
     "name": "stdout",
     "output_type": "stream",
     "text": [
      "\n",
      "      [your text here]\n",
      "      \n"
     ]
    }
   ],
   "source": [
    "print('''\n",
    "      [your text here]\n",
    "      ''')"
   ]
  }
 ],
 "metadata": {
  "kernelspec": {
   "display_name": "base",
   "language": "python",
   "name": "python3"
  },
  "language_info": {
   "codemirror_mode": {
    "name": "ipython",
    "version": 3
   },
   "file_extension": ".py",
   "mimetype": "text/x-python",
   "name": "python",
   "nbconvert_exporter": "python",
   "pygments_lexer": "ipython3",
   "version": "3.12.4"
  }
 },
 "nbformat": 4,
 "nbformat_minor": 5
}
